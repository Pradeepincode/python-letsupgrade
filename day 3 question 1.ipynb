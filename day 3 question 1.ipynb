{
 "cells": [
  {
   "cell_type": "code",
   "execution_count": 11,
   "metadata": {},
   "outputs": [
    {
     "name": "stdout",
     "output_type": "stream",
     "text": [
      "enter the percentage of student:\n",
      "99\n",
      "Grade - 'A'\n"
     ]
    }
   ],
   "source": [
    "\n",
    "#finding grades of student\n",
    "message = 'enter the percentage of student:'\n",
    "#printing message for user input\n",
    "print(message)\n",
    "a = input()\n",
    "#stripping zeroes and converting it into interger\n",
    "a = int(a.strip())\n",
    "if(a>85):                                       #percent > 85      A\n",
    "    print('Grade - \\'A\\'')\n",
    "elif(a<=85 and a>80):                           #80<percent80=85   A-\n",
    "    print('Grade - \\'A-\\'')\n",
    "elif(a>70 and a<=80):                            #70<percent<=80   B\n",
    "    print('Grade - \\'B\\'')\n",
    "elif(a>60 and a<=70):                            #60<percent<=70   C\n",
    "    print('Grade - \\'C\\'')\n",
    "elif(a>40 and a<=60):                            #40<percent<=60   D\n",
    "    print('Grade - \\'D\\'')\n",
    "elif(a<=40):                                      #percent<=40     E\n",
    "    if(a<=35):                                    #fail\n",
    "        print('Grade - \\'E\\' Candidate failed')\n",
    "    else:\n",
    "        print('Grade - \\'E\\'')"
   ]
  },
  {
   "cell_type": "code",
   "execution_count": null,
   "metadata": {},
   "outputs": [],
   "source": []
  },
  {
   "cell_type": "code",
   "execution_count": null,
   "metadata": {},
   "outputs": [],
   "source": []
  }
 ],
 "metadata": {
  "kernelspec": {
   "display_name": "Python 3",
   "language": "python",
   "name": "python3"
  },
  "language_info": {
   "codemirror_mode": {
    "name": "ipython",
    "version": 3
   },
   "file_extension": ".py",
   "mimetype": "text/x-python",
   "name": "python",
   "nbconvert_exporter": "python",
   "pygments_lexer": "ipython3",
   "version": "3.8.5"
  }
 },
 "nbformat": 4,
 "nbformat_minor": 4
}
